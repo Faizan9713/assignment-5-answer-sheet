{
 "cells": [
  {
   "cell_type": "code",
   "execution_count": null,
   "id": "95bc6034",
   "metadata": {},
   "outputs": [],
   "source": [
    "#1. What does an empty dictionary's code look like?\n",
    "\n",
    "\n",
    "\n",
    "ans  = its    {}\n"
   ]
  },
  {
   "cell_type": "code",
   "execution_count": null,
   "id": "6149eade",
   "metadata": {},
   "outputs": [],
   "source": [
    "#2. What is the value of a dictionary value with the key \"foo\" and the value 42?\n",
    "\n",
    "\n",
    "ans = dict = { \"foo\": 42 }"
   ]
  },
  {
   "cell_type": "code",
   "execution_count": null,
   "id": "ea603b8e",
   "metadata": {},
   "outputs": [],
   "source": [
    "#3. What is the most significant distinction between a dictionary and a list?\n",
    "\n",
    "ans = the most significants distinction between dictinoary and list are \n",
    "the items in dictinoary is in unordered \n",
    "and the items in list is in ordered"
   ]
  },
  {
   "cell_type": "code",
   "execution_count": null,
   "id": "bf8a3d16",
   "metadata": {},
   "outputs": [],
   "source": [
    "#4. What happens if you try to access spam['foo'] if spam is {'bar': 100}?\n",
    "\n",
    "\n",
    "ans = it gives an KeyError error\n",
    "\n",
    "spam = {'bar' : 100}\n",
    "spam['foo']\n"
   ]
  },
  {
   "cell_type": "code",
   "execution_count": 1,
   "id": "5f9fd4dd",
   "metadata": {},
   "outputs": [
    {
     "data": {
      "text/plain": [
       "True"
      ]
     },
     "execution_count": 1,
     "metadata": {},
     "output_type": "execute_result"
    }
   ],
   "source": [
    "#5. If a dictionary is stored in spam, what is the difference between the expressions 'cat' in spam and\n",
    "# 'cat' in spam.keys()?\n",
    "\n",
    "ans = there is no diffrence \n",
    "spam = {'cat':100}\n",
    "'cat' in spam \n"
   ]
  },
  {
   "cell_type": "code",
   "execution_count": 2,
   "id": "191db945",
   "metadata": {},
   "outputs": [
    {
     "data": {
      "text/plain": [
       "{'cat': 100}"
      ]
     },
     "execution_count": 2,
     "metadata": {},
     "output_type": "execute_result"
    }
   ],
   "source": [
    "spam"
   ]
  },
  {
   "cell_type": "code",
   "execution_count": 3,
   "id": "99a1d29c",
   "metadata": {},
   "outputs": [],
   "source": [
    "#6. If a dictionary is stored in spam, what is the difference between the expressions 'cat' in spam and\n",
    "#'cat' in spam.values()?\n",
    "\n",
    "\n",
    "ans = 'cat' in spam checks whether there is a 'cat' key in the dictionary, while 'cat' in spam.values() checks\n",
    "whether there is a value 'cat' for one of the keys in spam "
   ]
  },
  {
   "cell_type": "code",
   "execution_count": null,
   "id": "728344a0",
   "metadata": {},
   "outputs": [],
   "source": [
    "#7. What is a shortcut for the following code?\n",
    "\n",
    "if 'color' not in spam :\n",
    "    spam['color'] = 'black'"
   ]
  },
  {
   "cell_type": "code",
   "execution_count": 4,
   "id": "b7d06472",
   "metadata": {},
   "outputs": [],
   "source": [
    "if 'color' not in spam :\n",
    "    spam['color'] = 'black'"
   ]
  },
  {
   "cell_type": "code",
   "execution_count": 5,
   "id": "e7fa73e9",
   "metadata": {},
   "outputs": [
    {
     "data": {
      "text/plain": [
       "'black'"
      ]
     },
     "execution_count": 5,
     "metadata": {},
     "output_type": "execute_result"
    }
   ],
   "source": [
    "spam['color']"
   ]
  },
  {
   "cell_type": "code",
   "execution_count": 6,
   "id": "28ae897b",
   "metadata": {},
   "outputs": [
    {
     "data": {
      "text/plain": [
       "'black'"
      ]
     },
     "execution_count": 6,
     "metadata": {},
     "output_type": "execute_result"
    }
   ],
   "source": [
    "spam.setdefault('color','black')"
   ]
  },
  {
   "cell_type": "code",
   "execution_count": null,
   "id": "1f72314d",
   "metadata": {},
   "outputs": [],
   "source": [
    "# 8. How do you \"pretty print\" dictionary values using \n",
    "# which module and function?"
   ]
  },
  {
   "cell_type": "code",
   "execution_count": 15,
   "id": "174a399c",
   "metadata": {},
   "outputs": [],
   "source": [
    "import pprint \n",
    "dict = [{\"name\" : \"faizan\" , \"city\" : \"Bhopal\" , \"course\" : \"DSC\"}]\n"
   ]
  },
  {
   "cell_type": "code",
   "execution_count": 16,
   "id": "ee2df08d",
   "metadata": {},
   "outputs": [
    {
     "name": "stdout",
     "output_type": "stream",
     "text": [
      "<module 'pprint' from 'C:\\\\Users\\\\hh\\\\anaconda3\\\\lib\\\\pprint.py'>\n"
     ]
    }
   ],
   "source": [
    "print(pprint)"
   ]
  },
  {
   "cell_type": "code",
   "execution_count": 17,
   "id": "3c5b4e93",
   "metadata": {},
   "outputs": [
    {
     "name": "stdout",
     "output_type": "stream",
     "text": [
      "[{'city': 'Bhopal', 'course': 'DSC', 'name': 'faizan'}]\n"
     ]
    }
   ],
   "source": [
    "pprint.pprint(dict)"
   ]
  },
  {
   "cell_type": "code",
   "execution_count": null,
   "id": "95952600",
   "metadata": {},
   "outputs": [],
   "source": []
  },
  {
   "cell_type": "code",
   "execution_count": null,
   "id": "da43cdeb",
   "metadata": {},
   "outputs": [],
   "source": []
  }
 ],
 "metadata": {
  "kernelspec": {
   "display_name": "Python 3 (ipykernel)",
   "language": "python",
   "name": "python3"
  },
  "language_info": {
   "codemirror_mode": {
    "name": "ipython",
    "version": 3
   },
   "file_extension": ".py",
   "mimetype": "text/x-python",
   "name": "python",
   "nbconvert_exporter": "python",
   "pygments_lexer": "ipython3",
   "version": "3.9.12"
  }
 },
 "nbformat": 4,
 "nbformat_minor": 5
}
